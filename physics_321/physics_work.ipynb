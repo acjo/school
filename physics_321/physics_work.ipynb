{
 "cells": [
  {
   "cell_type": "code",
   "execution_count": 3,
   "metadata": {},
   "outputs": [],
   "source": [
    "import sympy as sy\n",
    "import numpy as np\n",
    "from matplotlib import pyplot\n",
    "from IPython.display import display"
   ]
  },
  {
   "cell_type": "code",
   "execution_count": 31,
   "metadata": {},
   "outputs": [],
   "source": [
    "x1, x1dot, y1, y1dot, x2, x2dot, y2, y2dot, theta1, theta1dot, theta2, theta2dot, l, m, g = sy.symbols('x_1, xdot_1, y_1, ydot_1, x_2, xdot_2, y_2, ydot_2, theta_1, thetadot_1, theta_2, thetadot_2, l, m,g')"
   ]
  },
  {
   "cell_type": "code",
   "execution_count": 32,
   "metadata": {},
   "outputs": [
    {
     "data": {
      "text/latex": [
       "$\\displaystyle \\sqrt{\\dot{x}_{1}^{2} + \\dot{y}_{1}^{2}}$"
      ],
      "text/plain": [
       "sqrt(xdot_1**2 + ydot_1**2)"
      ]
     },
     "metadata": {},
     "output_type": "display_data"
    },
    {
     "data": {
      "text/latex": [
       "$\\displaystyle \\sqrt{\\dot{x}_{2}^{2} + \\dot{y}_{2}^{2}}$"
      ],
      "text/plain": [
       "sqrt(xdot_2**2 + ydot_2**2)"
      ]
     },
     "metadata": {},
     "output_type": "display_data"
    },
    {
     "data": {
      "text/latex": [
       "$\\displaystyle \\frac{m \\left(\\dot{x}_{1}^{2} + \\dot{y}_{1}^{2}\\right)}{2}$"
      ],
      "text/plain": [
       "m*(xdot_1**2 + ydot_1**2)/2"
      ]
     },
     "metadata": {},
     "output_type": "display_data"
    },
    {
     "data": {
      "text/latex": [
       "$\\displaystyle \\frac{m \\left(\\dot{x}_{2}^{2} + \\dot{y}_{2}^{2}\\right)}{2}$"
      ],
      "text/plain": [
       "m*(xdot_2**2 + ydot_2**2)/2"
      ]
     },
     "metadata": {},
     "output_type": "display_data"
    },
    {
     "data": {
      "text/latex": [
       "$\\displaystyle \\frac{m \\left(\\dot{x}_{1}^{2} + \\dot{y}_{1}^{2}\\right)}{2} + \\frac{m \\left(\\dot{x}_{2}^{2} + \\dot{y}_{2}^{2}\\right)}{2}$"
      ],
      "text/plain": [
       "m*(xdot_1**2 + ydot_1**2)/2 + m*(xdot_2**2 + ydot_2**2)/2"
      ]
     },
     "metadata": {},
     "output_type": "display_data"
    },
    {
     "data": {
      "text/latex": [
       "$\\displaystyle \\frac{l m \\left(4 g \\cos{\\left(\\theta_{1} \\right)} + 2 g \\cos{\\left(\\theta_{2} \\right)} + 2 l \\dot{\\theta}_{1}^{2} + 2 l \\dot{\\theta}_{1} \\dot{\\theta}_{2} \\cos{\\left(\\theta_{1} - \\theta_{2} \\right)} + l \\dot{\\theta}_{2}^{2}\\right)}{2}$"
      ],
      "text/plain": [
       "l*m*(4*g*cos(theta_1) + 2*g*cos(theta_2) + 2*l*thetadot_1**2 + 2*l*thetadot_1*thetadot_2*cos(theta_1 - theta_2) + l*thetadot_2**2)/2"
      ]
     },
     "metadata": {},
     "output_type": "display_data"
    }
   ],
   "source": [
    "v1 = sy.sqrt(x1dot**2 + y1dot**2)\n",
    "v2 = sy.sqrt(x2dot**2 + y2dot**2)\n",
    "display(v1)\n",
    "display(v2)\n",
    "\n",
    "T1 = sy.Rational(1, 2)*m*v1**2\n",
    "T2 = sy.Rational(1, 2)*m*v2**2\n",
    "\n",
    "display(T1)\n",
    "display(T2)\n",
    "\n",
    "\n",
    "T = T1 + T2\n",
    "\n",
    "display(T)\n",
    "\n",
    "x1deriv = l*sy.cos(theta1)*theta1dot\n",
    "y1deriv = -l*sy.sin(theta1)*theta1dot\n",
    "x2deriv = l*sy.cos(theta2)*theta2dot + x1deriv\n",
    "y2deriv = -l*sy.sin(theta2)*theta2dot + y1deriv\n",
    "\n",
    "T = T.subs({x1dot: x1deriv, y1dot: y1deriv, x2dot: x2deriv, y2dot: y2deriv})\n",
    "\n",
    "T = sy.simplify(T)\n",
    "\n",
    "h1 = l*sy.cos(theta1)\n",
    "h2 = l*sy.cos(theta2) + h1\n",
    "\n",
    "U = -m*g*h1 -m*g*h2\n",
    "\n",
    "L = T - U \n",
    "L = sy.simplify(L)\n",
    "\n",
    "display(L)\n",
    "\n",
    "\n"
   ]
  },
  {
   "cell_type": "code",
   "execution_count": null,
   "metadata": {},
   "outputs": [],
   "source": []
  }
 ],
 "metadata": {
  "interpreter": {
   "hash": "a3787f4cb79ecec69b787db7199d8bde05c4992db9bd29a2a965f7beb5defefb"
  },
  "kernelspec": {
   "display_name": "Python 3.8.11 64-bit ('base': conda)",
   "name": "python3"
  },
  "language_info": {
   "codemirror_mode": {
    "name": "ipython",
    "version": 3
   },
   "file_extension": ".py",
   "mimetype": "text/x-python",
   "name": "python",
   "nbconvert_exporter": "python",
   "pygments_lexer": "ipython3",
   "version": "3.8.11"
  },
  "orig_nbformat": 4
 },
 "nbformat": 4,
 "nbformat_minor": 2
}
